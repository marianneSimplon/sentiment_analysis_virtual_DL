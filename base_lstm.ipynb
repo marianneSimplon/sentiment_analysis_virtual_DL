{
 "cells": [
  {
   "cell_type": "code",
   "execution_count": 3,
   "id": "f438c938",
   "metadata": {
    "scrolled": true
   },
   "outputs": [
    {
     "name": "stderr",
     "output_type": "stream",
     "text": [
      "[nltk_data] Downloading package omw-1.4 to\n",
      "[nltk_data]     C:\\Users\\Admin\\AppData\\Roaming\\nltk_data...\n",
      "[nltk_data]   Package omw-1.4 is already up-to-date!\n",
      "[nltk_data] Downloading package wordnet to\n",
      "[nltk_data]     C:\\Users\\Admin\\AppData\\Roaming\\nltk_data...\n",
      "[nltk_data]   Package wordnet is already up-to-date!\n",
      "[nltk_data] Downloading package averaged_perceptron_tagger to\n",
      "[nltk_data]     C:\\Users\\Admin\\AppData\\Roaming\\nltk_data...\n",
      "[nltk_data]   Package averaged_perceptron_tagger is already up-to-\n",
      "[nltk_data]       date!\n"
     ]
    }
   ],
   "source": [
    "# Connection\n",
    "import mysql.connector\n",
    "import sys\n",
    "\n",
    "# Utility\n",
    "import numpy as np \n",
    "import pandas as pd\n",
    "import matplotlib.pyplot as plt\n",
    "import seaborn as sns\n",
    "import pickle\n",
    "\n",
    "# Preprocessing\n",
    "# import string\n",
    "from nltk import *\n",
    "import nltk\n",
    "nltk.download('omw-1.4')\n",
    "nltk.download('wordnet')\n",
    "nltk.download('averaged_perceptron_tagger') #pour pos_tag\n",
    "\n",
    "from nltk.stem import WordNetLemmatizer\n",
    "from nltk.corpus import stopwords\n",
    "from nltk.tokenize import word_tokenize\n",
    "from nltk.tag import pos_tag\n",
    "from nltk.corpus import wordnet as wn\n",
    "\n",
    "# Modelling\n",
    "from sklearn.model_selection import train_test_split\n",
    "\n",
    "import tensorflow as tf\n",
    "from tensorflow.keras.preprocessing.text import Tokenizer\n",
    "from tensorflow.keras.preprocessing.sequence import pad_sequences\n",
    "from tensorflow.keras import Sequential\n",
    "from tensorflow.keras.layers import Dense, Embedding, GlobalAveragePooling1D , Activation, InputLayer, LSTM\n",
    "from tensorflow.keras.layers import Flatten, Dropout\n",
    "from tensorflow.keras.callbacks import EarlyStopping\n",
    "\n",
    "from sklearn.metrics import (classification_report, confusion_matrix, \n",
    "                            f1_score,accuracy_score, precision_score, \n",
    "                             recall_score, roc_auc_score) "
   ]
  },
  {
   "cell_type": "code",
   "execution_count": 4,
   "id": "32ff0e7d",
   "metadata": {},
   "outputs": [],
   "source": [
    "def connect():\n",
    "    try:\n",
    "        cnx = mysql.connector.connect(host=\"localhost\",user=\"root\",password=\"root\",auth_plugin='mysql_native_password',database=\"sentiment_analysis\")\n",
    "    except mysql.connector.Error as err:\n",
    "        cnx = False\n",
    "        print(err)\n",
    "        sys.exit(1)\n",
    "    finally:\n",
    "        return cnx"
   ]
  },
  {
   "cell_type": "code",
   "execution_count": 5,
   "id": "686cf01c",
   "metadata": {},
   "outputs": [],
   "source": [
    "conn = connect()\n",
    "conn\n",
    "cursor = conn.cursor()"
   ]
  },
  {
   "cell_type": "code",
   "execution_count": 6,
   "id": "254354e5",
   "metadata": {},
   "outputs": [],
   "source": [
    "def create_dataframe():\n",
    "    cursor.execute(\"\"\"  SELECT *\n",
    "                    FROM clothing_reviews; \"\"\")\n",
    "    rows = cursor.fetchall()\n",
    "    df = pd.DataFrame(rows,columns=['Index','Clothing ID', 'Age', 'Title', 'Review Text', 'Rating',\n",
    "       'Recommended IND', 'Positive Feedback Count', 'Division Name',\n",
    "       'Department Name', 'Class Name'])\n",
    "    df = df.set_index('Index')\n",
    "    df = df.replace('',np.nan,regex = True)\n",
    "    return df"
   ]
  },
  {
   "cell_type": "code",
   "execution_count": 7,
   "id": "72aeefda",
   "metadata": {},
   "outputs": [],
   "source": [
    "df_ori = create_dataframe()"
   ]
  },
  {
   "cell_type": "markdown",
   "id": "f9b020fe",
   "metadata": {},
   "source": [
    "# Cleaning"
   ]
  },
  {
   "cell_type": "code",
   "execution_count": 8,
   "id": "14df7853",
   "metadata": {},
   "outputs": [],
   "source": [
    "#Suppression de 845 données car il nous faut absolument TOUTES les Review Text\n",
    "df_ori.dropna(subset=['Review Text'], inplace=True)\n",
    "# df_ori.isna().sum()"
   ]
  },
  {
   "cell_type": "code",
   "execution_count": 9,
   "id": "d890f1d4",
   "metadata": {},
   "outputs": [],
   "source": [
    "df = df_ori[[\"Review Text\",\"Recommended IND\"]]"
   ]
  },
  {
   "cell_type": "code",
   "execution_count": 10,
   "id": "e6239b47",
   "metadata": {},
   "outputs": [],
   "source": [
    "stop_words = stopwords.words('english')"
   ]
  },
  {
   "cell_type": "code",
   "execution_count": 11,
   "id": "82dc386e",
   "metadata": {},
   "outputs": [],
   "source": [
    "def get_wordnet_pos(tag):\n",
    "    if tag.startswith('J'):\n",
    "        return wn.ADJ\n",
    "    elif tag.startswith('V'):\n",
    "        return wn.VERB\n",
    "    elif tag.startswith('N'):\n",
    "        return wn.NOUN\n",
    "    elif tag.startswith('R'):\n",
    "        return wn.ADV\n",
    "    else:\n",
    "        return wn.NOUN"
   ]
  },
  {
   "cell_type": "code",
   "execution_count": 12,
   "id": "f405f037",
   "metadata": {},
   "outputs": [],
   "source": [
    "def cleaning(data):\n",
    "    \n",
    "    #1. Tokenize\n",
    "    text_tokens = word_tokenize(data.replace(\"'\", \"\").lower()) \n",
    "        \n",
    "    #2. Remove Puncs\n",
    "    tokens_without_punc = [w for w in text_tokens if w.isalpha()]  \n",
    "    \n",
    "    #3. Removing Stopwords\n",
    "    tokens_without_sw = [t for t in tokens_without_punc if t not in stop_words]\n",
    "    \n",
    "    #4. Lemmatize\n",
    "    POS_tagging = pos_tag(tokens_without_sw)\n",
    "    wordnet_pos_tag=[]\n",
    "    wordnet_pos_tag = [(word, get_wordnet_pos(pos_tag)) for (word, pos_tag) in POS_tagging]\n",
    "    wnl = WordNetLemmatizer()\n",
    "    lemma = [wnl.lemmatize(word, tag) for word, tag in wordnet_pos_tag]\n",
    "    \n",
    "    return \" \".join(lemma)"
   ]
  },
  {
   "cell_type": "code",
   "execution_count": 13,
   "id": "94acb500",
   "metadata": {
    "scrolled": true
   },
   "outputs": [
    {
     "name": "stderr",
     "output_type": "stream",
     "text": [
      "<ipython-input-13-a330432e54a3>:1: SettingWithCopyWarning: \n",
      "A value is trying to be set on a copy of a slice from a DataFrame.\n",
      "Try using .loc[row_indexer,col_indexer] = value instead\n",
      "\n",
      "See the caveats in the documentation: https://pandas.pydata.org/pandas-docs/stable/user_guide/indexing.html#returning-a-view-versus-a-copy\n",
      "  df['Document'] = df['Review Text'].apply(cleaning)\n"
     ]
    },
    {
     "data": {
      "text/html": [
       "<div>\n",
       "<style scoped>\n",
       "    .dataframe tbody tr th:only-of-type {\n",
       "        vertical-align: middle;\n",
       "    }\n",
       "\n",
       "    .dataframe tbody tr th {\n",
       "        vertical-align: top;\n",
       "    }\n",
       "\n",
       "    .dataframe thead th {\n",
       "        text-align: right;\n",
       "    }\n",
       "</style>\n",
       "<table border=\"1\" class=\"dataframe\">\n",
       "  <thead>\n",
       "    <tr style=\"text-align: right;\">\n",
       "      <th></th>\n",
       "      <th>Review Text</th>\n",
       "      <th>Recommended IND</th>\n",
       "      <th>Document</th>\n",
       "    </tr>\n",
       "    <tr>\n",
       "      <th>Index</th>\n",
       "      <th></th>\n",
       "      <th></th>\n",
       "      <th></th>\n",
       "    </tr>\n",
       "  </thead>\n",
       "  <tbody>\n",
       "    <tr>\n",
       "      <th>1</th>\n",
       "      <td>Absolutely wonderful - silky and sexy and comf...</td>\n",
       "      <td>1</td>\n",
       "      <td>absolutely wonderful silky sexy comfortable</td>\n",
       "    </tr>\n",
       "    <tr>\n",
       "      <th>2</th>\n",
       "      <td>Love this dress!  it's sooo pretty.  i happene...</td>\n",
       "      <td>1</td>\n",
       "      <td>love dress sooo pretty happen find store im gl...</td>\n",
       "    </tr>\n",
       "    <tr>\n",
       "      <th>3</th>\n",
       "      <td>I had such high hopes for this dress and reall...</td>\n",
       "      <td>0</td>\n",
       "      <td>high hope dress really wanted work initially o...</td>\n",
       "    </tr>\n",
       "    <tr>\n",
       "      <th>4</th>\n",
       "      <td>I love, love, love this jumpsuit. it's fun, fl...</td>\n",
       "      <td>1</td>\n",
       "      <td>love love love jumpsuit fun flirty fabulous ev...</td>\n",
       "    </tr>\n",
       "    <tr>\n",
       "      <th>5</th>\n",
       "      <td>This shirt is very flattering to all due to th...</td>\n",
       "      <td>1</td>\n",
       "      <td>shirt flatter due adjustable front tie perfect...</td>\n",
       "    </tr>\n",
       "    <tr>\n",
       "      <th>...</th>\n",
       "      <td>...</td>\n",
       "      <td>...</td>\n",
       "      <td>...</td>\n",
       "    </tr>\n",
       "    <tr>\n",
       "      <th>23482</th>\n",
       "      <td>I was very happy to snag this dress at such a ...</td>\n",
       "      <td>1</td>\n",
       "      <td>happy snag dress great price easy slip flatter...</td>\n",
       "    </tr>\n",
       "    <tr>\n",
       "      <th>23483</th>\n",
       "      <td>It reminds me of maternity clothes. soft, stre...</td>\n",
       "      <td>1</td>\n",
       "      <td>reminds maternity clothes soft stretchy shiny ...</td>\n",
       "    </tr>\n",
       "    <tr>\n",
       "      <th>23484</th>\n",
       "      <td>This fit well, but the top was very see throug...</td>\n",
       "      <td>0</td>\n",
       "      <td>fit well top see never would work im glad able...</td>\n",
       "    </tr>\n",
       "    <tr>\n",
       "      <th>23485</th>\n",
       "      <td>I bought this dress for a wedding i have this ...</td>\n",
       "      <td>1</td>\n",
       "      <td>buy dress wed summer cute unfortunately fit is...</td>\n",
       "    </tr>\n",
       "    <tr>\n",
       "      <th>23486</th>\n",
       "      <td>This dress in a lovely platinum is feminine an...</td>\n",
       "      <td>1</td>\n",
       "      <td>dress lovely platinum feminine fit perfectly e...</td>\n",
       "    </tr>\n",
       "  </tbody>\n",
       "</table>\n",
       "<p>22641 rows × 3 columns</p>\n",
       "</div>"
      ],
      "text/plain": [
       "                                             Review Text  Recommended IND  \\\n",
       "Index                                                                       \n",
       "1      Absolutely wonderful - silky and sexy and comf...                1   \n",
       "2      Love this dress!  it's sooo pretty.  i happene...                1   \n",
       "3      I had such high hopes for this dress and reall...                0   \n",
       "4      I love, love, love this jumpsuit. it's fun, fl...                1   \n",
       "5      This shirt is very flattering to all due to th...                1   \n",
       "...                                                  ...              ...   \n",
       "23482  I was very happy to snag this dress at such a ...                1   \n",
       "23483  It reminds me of maternity clothes. soft, stre...                1   \n",
       "23484  This fit well, but the top was very see throug...                0   \n",
       "23485  I bought this dress for a wedding i have this ...                1   \n",
       "23486  This dress in a lovely platinum is feminine an...                1   \n",
       "\n",
       "                                                Document  \n",
       "Index                                                     \n",
       "1            absolutely wonderful silky sexy comfortable  \n",
       "2      love dress sooo pretty happen find store im gl...  \n",
       "3      high hope dress really wanted work initially o...  \n",
       "4      love love love jumpsuit fun flirty fabulous ev...  \n",
       "5      shirt flatter due adjustable front tie perfect...  \n",
       "...                                                  ...  \n",
       "23482  happy snag dress great price easy slip flatter...  \n",
       "23483  reminds maternity clothes soft stretchy shiny ...  \n",
       "23484  fit well top see never would work im glad able...  \n",
       "23485  buy dress wed summer cute unfortunately fit is...  \n",
       "23486  dress lovely platinum feminine fit perfectly e...  \n",
       "\n",
       "[22641 rows x 3 columns]"
      ]
     },
     "execution_count": 13,
     "metadata": {},
     "output_type": "execute_result"
    }
   ],
   "source": [
    "df['Document'] = df['Review Text'].apply(cleaning)\n",
    "df"
   ]
  },
  {
   "cell_type": "code",
   "execution_count": 14,
   "id": "f258634f",
   "metadata": {},
   "outputs": [],
   "source": [
    "# df.to_csv('./datasets/df_cleaned.csv')"
   ]
  },
  {
   "cell_type": "code",
   "execution_count": 133,
   "id": "6764f376",
   "metadata": {
    "scrolled": true
   },
   "outputs": [],
   "source": [
    "df = pd.read_csv(\"./datasets/df_cleaned.csv\")"
   ]
  },
  {
   "cell_type": "markdown",
   "id": "ce21e02e",
   "metadata": {},
   "source": [
    "# Modèle DL"
   ]
  },
  {
   "cell_type": "code",
   "execution_count": 134,
   "id": "a998e7ad",
   "metadata": {},
   "outputs": [],
   "source": [
    "X = df[\"Document\"].values\n",
    "y = df[\"Recommended IND\"].values"
   ]
  },
  {
   "cell_type": "code",
   "execution_count": 135,
   "id": "7122f589",
   "metadata": {},
   "outputs": [],
   "source": [
    "X_train, X_test, y_train, y_test = train_test_split(X, y, test_size = 0.2, stratify = y, random_state = 101)"
   ]
  },
  {
   "cell_type": "code",
   "execution_count": 136,
   "id": "df1f9568",
   "metadata": {},
   "outputs": [],
   "source": [
    "#Parametres\n",
    "\n",
    "TOKENIZER_NUM_WORDS = None #None by default\n",
    "SEQUENCE_LENGTH = 300 #None by default\n",
    "\n",
    "# model\n",
    "EPOCHS = 30\n",
    "BATCH_SIZE = 1024"
   ]
  },
  {
   "cell_type": "code",
   "execution_count": 137,
   "id": "271ae036",
   "metadata": {},
   "outputs": [],
   "source": [
    "def LSTM_Model(train_x, train_y, neurons=10, optimizer='adam', vocab_size=vocab_size, input_shape=input_shape):\n",
    "    lstm_model = Sequential()\n",
    "    lstm_model.add(InputLayer(input_shape=(input_shape,)))\n",
    "    lstm_model.add(Embedding(vocab_size,SEQUENCE_LENGTH,input_length=input_shape))\n",
    "    lstm_model.add(LSTM(neurons, return_sequences=True)) #return sequences ?\n",
    "    lstm_model.add(Flatten())\n",
    "    lstm_model.add(Dense(1, activation=\"sigmoid\"))\n",
    "    #compile the model\n",
    "    lstm_model.compile(loss=\"binary_crossentropy\",optimizer=optimizer,metrics=[\"accuracy\"])\n",
    "    return lstm_model"
   ]
  },
  {
   "cell_type": "code",
   "execution_count": 138,
   "id": "8944bf3f",
   "metadata": {},
   "outputs": [],
   "source": [
    "early_stopping = tf.keras.callbacks.EarlyStopping(monitor='val_loss', min_delta=1e-4, patience=5, restore_best_weights=True)"
   ]
  },
  {
   "cell_type": "markdown",
   "id": "6d5fa8b5",
   "metadata": {},
   "source": [
    "# Test RandomUnderSampling"
   ]
  },
  {
   "cell_type": "code",
   "execution_count": 139,
   "id": "888c8ee9",
   "metadata": {},
   "outputs": [],
   "source": [
    "from imblearn.under_sampling import RandomUnderSampler"
   ]
  },
  {
   "cell_type": "code",
   "execution_count": 140,
   "id": "af06f9b0",
   "metadata": {},
   "outputs": [],
   "source": [
    "rus = RandomUnderSampler(random_state=42,sampling_strategy=0.6)\n",
    "X_rus, y_rus = rus.fit_resample(X_train.reshape(-1, 1), y_train.reshape(-1, 1))"
   ]
  },
  {
   "cell_type": "code",
   "execution_count": 141,
   "id": "654e4497",
   "metadata": {},
   "outputs": [
    {
     "name": "stderr",
     "output_type": "stream",
     "text": [
      "C:\\Users\\Admin\\Anaconda3\\lib\\site-packages\\seaborn\\_decorators.py:36: FutureWarning: Pass the following variable as a keyword arg: x. From version 0.12, the only valid positional argument will be `data`, and passing other arguments without an explicit keyword will result in an error or misinterpretation.\n",
      "  warnings.warn(\n",
      "C:\\Users\\Admin\\Anaconda3\\lib\\site-packages\\seaborn\\_decorators.py:36: FutureWarning: Pass the following variable as a keyword arg: x. From version 0.12, the only valid positional argument will be `data`, and passing other arguments without an explicit keyword will result in an error or misinterpretation.\n",
      "  warnings.warn(\n"
     ]
    },
    {
     "data": {
      "image/png": "[encoded data removed]",
      "text/plain": [
       "<Figure size 720x576 with 2 Axes>"
      ]
     },
     "metadata": {
      "needs_background": "light"
     },
     "output_type": "display_data"
    }
   ],
   "source": [
    "plt.figure(figsize = (10, 8))\n",
    "plt.subplot(1, 2, 1)\n",
    "sns.countplot(y_train)\n",
    "plt.title('Reparition before RandomUnderSampler')\n",
    "plt.subplot(1, 2, 2)\n",
    "sns.countplot(y_rus)\n",
    "plt.title('Reparition after RandomUnderSampler')\n",
    "plt.show()"
   ]
  },
  {
   "cell_type": "markdown",
   "id": "dd444c92",
   "metadata": {},
   "source": [
    "AVEC MODELE"
   ]
  },
  {
   "cell_type": "code",
   "execution_count": 142,
   "id": "527703ef",
   "metadata": {},
   "outputs": [],
   "source": [
    "#Reshape en tableau pour passer dans le tokenizer\n",
    "X_train_rus = X_rus.reshape(-1)\n",
    "y_train_rus = y_rus.reshape(-1)"
   ]
  },
  {
   "cell_type": "code",
   "execution_count": 143,
   "id": "d237647f",
   "metadata": {},
   "outputs": [
    {
     "name": "stdout",
     "output_type": "stream",
     "text": [
      "Total words 7532\n",
      "Wall time: 472 ms\n"
     ]
    }
   ],
   "source": [
    "%%time\n",
    "\n",
    "#Tokenize\n",
    "\n",
    "tokenizer = Tokenizer(num_words=TOKENIZER_NUM_WORDS)\n",
    "tokenizer.fit_on_texts(X_train_rus)\n",
    "\n",
    "vocab_size = len(tokenizer.word_index) + 1\n",
    "print(\"Total words\", vocab_size)"
   ]
  },
  {
   "cell_type": "code",
   "execution_count": 144,
   "id": "e553da34",
   "metadata": {},
   "outputs": [
    {
     "name": "stdout",
     "output_type": "stream",
     "text": [
      "Wall time: 552 ms\n"
     ]
    }
   ],
   "source": [
    "%%time\n",
    "X_train_padseq_rus = pad_sequences(tokenizer.texts_to_sequences(X_train_rus), maxlen=SEQUENCE_LENGTH)\n",
    "X_test_padseq = pad_sequences(tokenizer.texts_to_sequences(X_test), maxlen=SEQUENCE_LENGTH)\n",
    "\n",
    "input_shape = X_train_padseq_rus.shape[1]"
   ]
  },
  {
   "cell_type": "code",
   "execution_count": 145,
   "id": "fc16ba31",
   "metadata": {},
   "outputs": [],
   "source": [
    "lstm_model = LSTM_Model(train_x=X_train_padseq_rus,train_y=y_train_rus,vocab_size=vocab_size, input_shape=input_shape)"
   ]
  },
  {
   "cell_type": "code",
   "execution_count": 146,
   "id": "82cab9a3",
   "metadata": {
    "scrolled": true
   },
   "outputs": [
    {
     "name": "stdout",
     "output_type": "stream",
     "text": [
      "Epoch 1/30\n",
      "6/6 [==============================] - 19s 3s/step - loss: 0.6904 - accuracy: 0.5358 - val_loss: 0.7272 - val_accuracy: 0.0000e+00\n",
      "Epoch 2/30\n",
      "6/6 [==============================] - 23s 4s/step - loss: 0.6830 - accuracy: 0.5358 - val_loss: 0.7583 - val_accuracy: 0.0000e+00\n",
      "Epoch 3/30\n",
      "6/6 [==============================] - 24s 4s/step - loss: 0.6667 - accuracy: 0.5870 - val_loss: 0.7232 - val_accuracy: 0.3208\n",
      "Epoch 4/30\n",
      "6/6 [==============================] - 36s 6s/step - loss: 0.6321 - accuracy: 0.7580 - val_loss: 0.6668 - val_accuracy: 0.6552\n",
      "Epoch 5/30\n",
      "6/6 [==============================] - 32s 4s/step - loss: 0.5708 - accuracy: 0.8263 - val_loss: 0.5998 - val_accuracy: 0.7307\n",
      "Epoch 6/30\n",
      "6/6 [==============================] - 25s 4s/step - loss: 0.4861 - accuracy: 0.8452 - val_loss: 0.5473 - val_accuracy: 0.7451\n",
      "Epoch 7/30\n",
      "6/6 [==============================] - 29s 5s/step - loss: 0.4069 - accuracy: 0.8508 - val_loss: 0.4622 - val_accuracy: 0.7863\n",
      "Epoch 8/30\n",
      "6/6 [==============================] - 27s 4s/step - loss: 0.3499 - accuracy: 0.8615 - val_loss: 0.4837 - val_accuracy: 0.7874\n",
      "Epoch 9/30\n",
      "6/6 [==============================] - 26s 4s/step - loss: 0.3102 - accuracy: 0.8769 - val_loss: 0.5528 - val_accuracy: 0.7680\n",
      "Epoch 10/30\n",
      "6/6 [==============================] - 30s 5s/step - loss: 0.2774 - accuracy: 0.8927 - val_loss: 0.4948 - val_accuracy: 0.7783\n",
      "Epoch 11/30\n",
      "6/6 [==============================] - 30s 5s/step - loss: 0.2494 - accuracy: 0.9020 - val_loss: 0.4455 - val_accuracy: 0.8232\n",
      "Epoch 12/30\n",
      "6/6 [==============================] - 24s 4s/step - loss: 0.2234 - accuracy: 0.9162 - val_loss: 0.4343 - val_accuracy: 0.8137\n",
      "Epoch 13/30\n",
      "6/6 [==============================] - 27s 5s/step - loss: 0.2042 - accuracy: 0.9241 - val_loss: 0.5099 - val_accuracy: 0.8038\n",
      "Epoch 14/30\n",
      "6/6 [==============================] - 34s 6s/step - loss: 0.1835 - accuracy: 0.9355 - val_loss: 0.5798 - val_accuracy: 0.7836\n",
      "Epoch 15/30\n",
      "6/6 [==============================] - 28s 4s/step - loss: 0.1675 - accuracy: 0.9435 - val_loss: 0.6143 - val_accuracy: 0.7870\n",
      "Epoch 16/30\n",
      "6/6 [==============================] - 30s 5s/step - loss: 0.1509 - accuracy: 0.9487 - val_loss: 0.5886 - val_accuracy: 0.7981\n",
      "Epoch 17/30\n",
      "6/6 [==============================] - 39s 6s/step - loss: 0.1366 - accuracy: 0.9551 - val_loss: 0.6074 - val_accuracy: 0.7966\n",
      "Wall time: 8min 4s\n"
     ]
    }
   ],
   "source": [
    "%%time\n",
    "history = lstm_model.fit(X_train_padseq_rus, y_train_rus,\n",
    "                    batch_size=BATCH_SIZE,\n",
    "                    epochs=EPOCHS,\n",
    "                    validation_split=0.3,\n",
    "                    callbacks=[early_stopping])"
   ]
  },
  {
   "cell_type": "code",
   "execution_count": 147,
   "id": "25ba6b05",
   "metadata": {},
   "outputs": [
    {
     "data": {
      "image/png": "[encoded data removed]",
      "text/plain": [
       "<Figure size 720x360 with 1 Axes>"
      ]
     },
     "metadata": {
      "needs_background": "light"
     },
     "output_type": "display_data"
    },
    {
     "data": {
      "image/png": "[encoded data removed]",
      "text/plain": [
       "<Figure size 720x360 with 1 Axes>"
      ]
     },
     "metadata": {
      "needs_background": "light"
     },
     "output_type": "display_data"
    }
   ],
   "source": [
    "plt.figure(figsize=(10,5))\n",
    "\n",
    "# summarize history for mae\n",
    "plt.plot(history.history['accuracy'])\n",
    "plt.plot(history.history['val_accuracy'])\n",
    "plt.title('Learning Curve')\n",
    "plt.ylabel('Accuracy')\n",
    "plt.xlabel('epoch')\n",
    "plt.legend(['train', 'validation'], loc='upper left')\n",
    "plt.show()\n",
    "\n",
    "# summarize history for loss\n",
    "plt.figure(figsize=(10,5))\n",
    "plt.plot(history.history['loss'])\n",
    "plt.plot(history.history['val_loss'])\n",
    "plt.title('model loss')\n",
    "plt.ylabel('loss')\n",
    "plt.xlabel('epoch')\n",
    "plt.legend(['train', 'validation'], loc='upper left')\n",
    "plt.show()"
   ]
  },
  {
   "cell_type": "markdown",
   "id": "d52049db",
   "metadata": {},
   "source": [
    "##### Prediction"
   ]
  },
  {
   "cell_type": "code",
   "execution_count": 148,
   "id": "20239d5f",
   "metadata": {},
   "outputs": [],
   "source": [
    "pred_train_lstm_rus = lstm_model.predict(X_train_padseq_rus)\n",
    "pred_test_lstm = lstm_model.predict(X_test_padseq)"
   ]
  },
  {
   "cell_type": "code",
   "execution_count": 149,
   "id": "7cb3f323",
   "metadata": {},
   "outputs": [
    {
     "data": {
      "image/png": "[encoded data removed]",
      "text/plain": [
       "<Figure size 1080x576 with 2 Axes>"
      ]
     },
     "metadata": {
      "needs_background": "light"
     },
     "output_type": "display_data"
    }
   ],
   "source": [
    "for i, x in enumerate(pred_test_lstm):\n",
    "    if 0 <= x < 0.49:\n",
    "        pred_test_lstm[i] = 0\n",
    "    else:\n",
    "        pred_test_lstm[i] = 1\n",
    "\n",
    "for i, x in enumerate(pred_train_lstm_rus):\n",
    "    if 0 <= x < 0.49:\n",
    "        pred_train_lstm_rus[i] = 0\n",
    "    else:\n",
    "        pred_train_lstm_rus[i] = 1\n",
    "\n",
    "conf_mat = confusion_matrix(y_true=y_test, y_pred=pred_test_lstm)\n",
    "plt.figure(figsize=(15, 8))\n",
    "sns.heatmap(conf_mat, annot=True, fmt='g')\n",
    "plt.title('Confusion Matrix of the Test Data', fontsize=14)\n",
    "plt.ylabel('Real Class', fontsize=12)\n",
    "plt.xlabel('Predicted Class', fontsize=12)\n",
    "plt.show()"
   ]
  },
  {
   "cell_type": "code",
   "execution_count": 150,
   "id": "e4ef3d3d",
   "metadata": {},
   "outputs": [
    {
     "name": "stdout",
     "output_type": "stream",
     "text": [
      "              precision    recall  f1-score   support\n",
      "\n",
      "           0       0.51      0.83      0.63       820\n",
      "           1       0.96      0.82      0.88      3709\n",
      "\n",
      "    accuracy                           0.82      4529\n",
      "   macro avg       0.73      0.83      0.76      4529\n",
      "weighted avg       0.88      0.82      0.84      4529\n",
      "\n"
     ]
    }
   ],
   "source": [
    "print(classification_report(y_test, pred_test_lstm))"
   ]
  },
  {
   "cell_type": "code",
   "execution_count": 152,
   "id": "66532935",
   "metadata": {},
   "outputs": [
    {
     "name": "stdout",
     "output_type": "stream",
     "text": [
      "Model: \"sequential_5\"\n",
      "_________________________________________________________________\n",
      " Layer (type)                Output Shape              Param #   \n",
      "=================================================================\n",
      " embedding_5 (Embedding)     (None, 300, 300)          2259600   \n",
      "                                                                 \n",
      " lstm_5 (LSTM)               (None, 300, 10)           12440     \n",
      "                                                                 \n",
      " flatten_5 (Flatten)         (None, 3000)              0         \n",
      "                                                                 \n",
      " dense_5 (Dense)             (None, 1)                 3001      \n",
      "                                                                 \n",
      "=================================================================\n",
      "Total params: 2,275,041\n",
      "Trainable params: 2,275,041\n",
      "Non-trainable params: 0\n",
      "_________________________________________________________________\n"
     ]
    }
   ],
   "source": [
    "lstm_model.summary()"
   ]
  },
  {
   "cell_type": "code",
   "execution_count": 153,
   "id": "44aed76a",
   "metadata": {},
   "outputs": [],
   "source": [
    "# # saving tokenizer\n",
    "# with open('./mypickles/tokenizer_rus.pickle', 'wb') as handle:\n",
    "#     pickle.dump(tokenizer, handle, protocol=pickle.HIGHEST_PROTOCOL)"
   ]
  },
  {
   "cell_type": "code",
   "execution_count": 154,
   "id": "a747cd74",
   "metadata": {},
   "outputs": [],
   "source": [
    "# # saving model lstm with rus\n",
    "# lstm_model.save('./mypickles/lstm_model_rus.h5')"
   ]
  }
 ],
 "metadata": {
  "kernelspec": {
   "display_name": "Python 3 (ipykernel)",
   "language": "python",
   "name": "python3"
  },
  "language_info": {
   "codemirror_mode": {
    "name": "ipython",
    "version": 3
   },
   "file_extension": ".py",
   "mimetype": "text/x-python",
   "name": "python",
   "nbconvert_exporter": "python",
   "pygments_lexer": "ipython3",
   "version": "3.8.8"
  }
 },
 "nbformat": 4,
 "nbformat_minor": 5
}
